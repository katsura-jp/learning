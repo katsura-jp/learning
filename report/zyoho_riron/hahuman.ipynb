{
 "cells": [
  {
   "cell_type": "code",
   "execution_count": 1,
   "metadata": {},
   "outputs": [],
   "source": [
    "import json\n",
    "import math"
   ]
  },
  {
   "cell_type": "code",
   "execution_count": 2,
   "metadata": {},
   "outputs": [],
   "source": [
    "with open(\"letter_frecency.json\", \"r\") as f:\n",
    "    file = json.load(f)"
   ]
  },
  {
   "cell_type": "code",
   "execution_count": 3,
   "metadata": {},
   "outputs": [
    {
     "data": {
      "text/plain": [
       "{'A': 0.08167,\n",
       " 'B': 0.01492,\n",
       " 'C': 0.02782,\n",
       " 'D': 0.04253,\n",
       " 'E': 0.12702,\n",
       " 'F': 0.02228,\n",
       " 'G': 0.02015,\n",
       " 'H': 0.06094,\n",
       " 'I': 0.06966,\n",
       " 'J': 0.00153,\n",
       " 'K': 0.00772,\n",
       " 'L': 0.04025,\n",
       " 'M': 0.02406,\n",
       " 'N': 0.06749,\n",
       " 'O': 0.07507,\n",
       " 'P': 0.01929,\n",
       " 'Q': 0.00095,\n",
       " 'R': 0.05987,\n",
       " 'S': 0.06327,\n",
       " 'T': 0.09056,\n",
       " 'U': 0.02758,\n",
       " 'V': 0.00978,\n",
       " 'W': 0.0236,\n",
       " 'X': 0.0015,\n",
       " 'Y': 0.01974,\n",
       " 'Z': 0.00074}"
      ]
     },
     "execution_count": 3,
     "metadata": {},
     "output_type": "execute_result"
    }
   ],
   "source": [
    "file"
   ]
  },
  {
   "cell_type": "code",
   "execution_count": 4,
   "metadata": {},
   "outputs": [],
   "source": [
    "frequency = file.copy()"
   ]
  },
  {
   "cell_type": "code",
   "execution_count": 5,
   "metadata": {},
   "outputs": [],
   "source": [
    "class Node:  \n",
    "    def __init__(self, left, right):\n",
    "        self.name = '({} + {})'.format(left.name, right.name)\n",
    "        self.p = left.p + right.p\n",
    "        self.left = left\n",
    "        self.right = right\n",
    "        self.__signal = None\n",
    "    \n",
    "    @property\n",
    "    def signal(self):\n",
    "        return self.__signal\n",
    "    \n",
    "    @signal.setter\n",
    "    def signal(self, signal):\n",
    "        self.__signal = signal\n",
    "        \n",
    "class Leaf:\n",
    "    def __init__(self, name, p):\n",
    "        self.name = name\n",
    "        self.p = p\n",
    "        self.__signal = None\n",
    "        \n",
    "    @property\n",
    "    def signal(self):\n",
    "        return self.__signal\n",
    "    \n",
    "    @signal.setter\n",
    "    def signal(self, signal):\n",
    "        self.__signal = signal"
   ]
  },
  {
   "cell_type": "code",
   "execution_count": 43,
   "metadata": {},
   "outputs": [],
   "source": [
    "leafs = [Leaf(name, p) for name, p in frequency.items()]"
   ]
  },
  {
   "cell_type": "code",
   "execution_count": 44,
   "metadata": {},
   "outputs": [
    {
     "data": {
      "text/plain": [
       "0.08167"
      ]
     },
     "execution_count": 44,
     "metadata": {},
     "output_type": "execute_result"
    }
   ],
   "source": [
    "leafs[0].p"
   ]
  },
  {
   "cell_type": "code",
   "execution_count": 50,
   "metadata": {},
   "outputs": [],
   "source": [
    "nodes = {leaf.name:{'p':leaf.p, 'node': leaf} for leaf in leafs}"
   ]
  },
  {
   "cell_type": "code",
   "execution_count": 47,
   "metadata": {},
   "outputs": [],
   "source": [
    "for i, (k, v) in enumerate(sorted(nodes.items(), key=lambda x: x[1]['p'])):\n",
    "    if i == 0:\n",
    "        left = v['node']\n",
    "        nodes.pop(k)\n",
    "    elif i == 1:\n",
    "        right = v['node']\n",
    "        nodes.pop(k)\n",
    "    else:\n",
    "        break\n",
    "new_node = Node(left, right)\n",
    "nodes[new_node.name] = {'p' : new_node.p, 'node': new_node}"
   ]
  },
  {
   "cell_type": "code",
   "execution_count": 48,
   "metadata": {},
   "outputs": [
    {
     "data": {
      "text/plain": [
       "25"
      ]
     },
     "execution_count": 48,
     "metadata": {},
     "output_type": "execute_result"
    }
   ],
   "source": [
    "len(nodes)"
   ]
  },
  {
   "cell_type": "code",
   "execution_count": 49,
   "metadata": {},
   "outputs": [
    {
     "data": {
      "text/plain": [
       "{'(Z + Q)': {'node': <__main__.Node at 0x10e0c95f8>, 'p': 0.00169},\n",
       " 'A': {'node': <__main__.Leaf at 0x10e0cf048>, 'p': 0.08167},\n",
       " 'B': {'node': <__main__.Leaf at 0x10e0cf080>, 'p': 0.01492},\n",
       " 'C': {'node': <__main__.Leaf at 0x10e0cf0b8>, 'p': 0.02782},\n",
       " 'D': {'node': <__main__.Leaf at 0x10e0cf128>, 'p': 0.04253},\n",
       " 'E': {'node': <__main__.Leaf at 0x10e0cf160>, 'p': 0.12702},\n",
       " 'F': {'node': <__main__.Leaf at 0x10e0cf198>, 'p': 0.02228},\n",
       " 'G': {'node': <__main__.Leaf at 0x10e0cf1d0>, 'p': 0.02015},\n",
       " 'H': {'node': <__main__.Leaf at 0x10e0cf208>, 'p': 0.06094},\n",
       " 'I': {'node': <__main__.Leaf at 0x10e0cf240>, 'p': 0.06966},\n",
       " 'J': {'node': <__main__.Leaf at 0x10e0cf278>, 'p': 0.00153},\n",
       " 'K': {'node': <__main__.Leaf at 0x10e0cf2b0>, 'p': 0.00772},\n",
       " 'L': {'node': <__main__.Leaf at 0x10e0cf2e8>, 'p': 0.04025},\n",
       " 'M': {'node': <__main__.Leaf at 0x10e0cf320>, 'p': 0.02406},\n",
       " 'N': {'node': <__main__.Leaf at 0x10e0cf358>, 'p': 0.06749},\n",
       " 'O': {'node': <__main__.Leaf at 0x10e0cf390>, 'p': 0.07507},\n",
       " 'P': {'node': <__main__.Leaf at 0x10e0cf3c8>, 'p': 0.01929},\n",
       " 'R': {'node': <__main__.Leaf at 0x10e0cf438>, 'p': 0.05987},\n",
       " 'S': {'node': <__main__.Leaf at 0x10e0cf470>, 'p': 0.06327},\n",
       " 'T': {'node': <__main__.Leaf at 0x10e0cf4a8>, 'p': 0.09056},\n",
       " 'U': {'node': <__main__.Leaf at 0x10e0cf4e0>, 'p': 0.02758},\n",
       " 'V': {'node': <__main__.Leaf at 0x10e0cf518>, 'p': 0.00978},\n",
       " 'W': {'node': <__main__.Leaf at 0x10e0cf550>, 'p': 0.0236},\n",
       " 'X': {'node': <__main__.Leaf at 0x10e0cf588>, 'p': 0.0015},\n",
       " 'Y': {'node': <__main__.Leaf at 0x10e0cf5c0>, 'p': 0.01974}}"
      ]
     },
     "execution_count": 49,
     "metadata": {},
     "output_type": "execute_result"
    }
   ],
   "source": [
    "nodes"
   ]
  },
  {
   "cell_type": "code",
   "execution_count": 51,
   "metadata": {},
   "outputs": [],
   "source": [
    "#make tree\n",
    "nodes = {leaf.name:{'p':leaf.p, 'node': leaf} for leaf in leafs}\n",
    "while(len(nodes) > 1):\n",
    "    for i, (k, v) in enumerate(sorted(nodes.items(), key=lambda x: x[1]['p'])):\n",
    "        if i == 0:\n",
    "            left = v['node']\n",
    "            nodes.pop(k)\n",
    "        elif i == 1:\n",
    "            right = v['node']\n",
    "            nodes.pop(k)\n",
    "        else:\n",
    "            break\n",
    "    new_node = Node(left, right)\n",
    "    nodes[new_node.name] = {'p' : new_node.p, 'node': new_node}"
   ]
  },
  {
   "cell_type": "code",
   "execution_count": 97,
   "metadata": {},
   "outputs": [],
   "source": [
    "#nodes\n",
    "root2 = list(nodes.values())[0]['node']"
   ]
  },
  {
   "cell_type": "code",
   "execution_count": 85,
   "metadata": {},
   "outputs": [],
   "source": [
    "root = v['node']"
   ]
  },
  {
   "cell_type": "code",
   "execution_count": 91,
   "metadata": {},
   "outputs": [],
   "source": [
    "root.signal = ''"
   ]
  },
  {
   "cell_type": "code",
   "execution_count": null,
   "metadata": {},
   "outputs": [],
   "source": [
    "#TODO: give signal"
   ]
  },
  {
   "cell_type": "code",
   "execution_count": 94,
   "metadata": {},
   "outputs": [],
   "source": [
    "def give_signal(node):\n",
    "    if isinstance(node, Node):\n",
    "        node.left.signal = node.signal + str(0)\n",
    "        node.right.signal = node.signal + str(1)\n",
    "        give_signal(node.left)\n",
    "        give_signal(node.right)"
   ]
  },
  {
   "cell_type": "code",
   "execution_count": 98,
   "metadata": {},
   "outputs": [],
   "source": [
    "give_signal(root2)"
   ]
  },
  {
   "cell_type": "code",
   "execution_count": 101,
   "metadata": {},
   "outputs": [
    {
     "name": "stdout",
     "output_type": "stream",
     "text": [
      "A : 1110(len=4)\n",
      "B : 110000(len=6)\n",
      "C : 01001(len=5)\n",
      "D : 11111(len=5)\n",
      "E : 100(len=3)\n",
      "F : 00101(len=5)\n",
      "G : 110011(len=6)\n",
      "H : 0110(len=4)\n",
      "I : 1011(len=4)\n",
      "J : 001001011(len=9)\n",
      "K : 0010011(len=7)\n",
      "L : 11110(len=5)\n",
      "M : 00111(len=5)\n",
      "N : 1010(len=4)\n",
      "O : 1101(len=4)\n",
      "P : 110001(len=6)\n",
      "Q : 001001001(len=9)\n",
      "R : 0101(len=4)\n",
      "S : 0111(len=4)\n",
      "T : 000(len=3)\n",
      "U : 01000(len=5)\n",
      "V : 001000(len=6)\n",
      "W : 00110(len=5)\n",
      "X : 001001010(len=9)\n",
      "Y : 110010(len=6)\n",
      "Z : 001001000(len=9)\n"
     ]
    }
   ],
   "source": [
    "for leaf in leafs:\n",
    "    print('{} : {}(len={})'.format(leaf.name, leaf.signal, len(leaf.signal)))"
   ]
  },
  {
   "cell_type": "code",
   "execution_count": 106,
   "metadata": {},
   "outputs": [],
   "source": [
    "def ave_codeword_length(leafs):\n",
    "    result = 0\n",
    "    for leaf in leafs:\n",
    "        result += len(leaf.signal) * leaf.p\n",
    "    return result"
   ]
  },
  {
   "cell_type": "code",
   "execution_count": 107,
   "metadata": {},
   "outputs": [
    {
     "name": "stdout",
     "output_type": "stream",
     "text": [
      "4.20502\n"
     ]
    }
   ],
   "source": [
    "print(ave_codeword_length(leafs))"
   ]
  },
  {
   "cell_type": "code",
   "execution_count": null,
   "metadata": {},
   "outputs": [],
   "source": []
  }
 ],
 "metadata": {
  "kernelspec": {
   "display_name": "Python 3",
   "language": "python",
   "name": "python3"
  },
  "language_info": {
   "codemirror_mode": {
    "name": "ipython",
    "version": 3
   },
   "file_extension": ".py",
   "mimetype": "text/x-python",
   "name": "python",
   "nbconvert_exporter": "python",
   "pygments_lexer": "ipython3",
   "version": "3.6.1"
  }
 },
 "nbformat": 4,
 "nbformat_minor": 2
}
